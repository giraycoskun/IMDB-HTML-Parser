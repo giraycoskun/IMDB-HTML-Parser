{
 "cells": [
  {
   "cell_type": "markdown",
   "metadata": {},
   "source": [
    "# HTML Parser for IMDB\n",
    "---\n",
    "**Author Github:** [Giray Coskun](https://github.com/giraycoskun)\n",
    "\n",
    "**Valid Links:**\n",
    "\n",
    "https://www.imdb.com/search/title/?groups=top_1000&sort=user_rating,desc&count=100&view=simple\n",
    "\n",
    "https://www.imdb.com/search/title/?groups=top_1000&view=simple&sort=user_rating,desc&count=10&start=5&ref_=adv_nxt\n",
    "\n",
    "---\n",
    "**Legal issues on Web Scraping:**\n",
    "\n",
    "https://www.lawinsociety.org/legal-perspectives-on-scraping-data-from-the-modern-web\n",
    "\n",
    "---\n",
    "\n",
    "#### Tutorial: https://realpython.com/beautiful-soup-web-scraper-python/"
   ]
  },
  {
   "cell_type": "code",
   "execution_count": 1,
   "metadata": {},
   "outputs": [],
   "source": [
    "from bs4 import BeautifulSoup\n",
    "import requests\n",
    "import urllib.request, urllib.parse"
   ]
  },
  {
   "cell_type": "markdown",
   "metadata": {},
   "source": [
    "## Constants"
   ]
  },
  {
   "cell_type": "code",
   "execution_count": 2,
   "metadata": {},
   "outputs": [],
   "source": [
    "COUNT = 100\n",
    "START =1"
   ]
  },
  {
   "cell_type": "code",
   "execution_count": 3,
   "metadata": {},
   "outputs": [
    {
     "name": "stdout",
     "output_type": "stream",
     "text": [
      "https://www.imdb.com/search/title/?groups=top_1000&view=simple&sort=user_rating,desc&count=100&start=1&ref_=adv_nxt\n"
     ]
    }
   ],
   "source": [
    "URL = \"https://www.imdb.com/search/title/?groups=top_1000&view=simple&sort=user_rating,desc&count=\"+str(COUNT)+\"&start=\"+str(START)+\"&ref_=adv_nxt\"\n",
    "print(URL)"
   ]
  },
  {
   "cell_type": "markdown",
   "metadata": {},
   "source": [
    "## Page Parsing"
   ]
  },
  {
   "cell_type": "code",
   "execution_count": 4,
   "metadata": {},
   "outputs": [
    {
     "name": "stdout",
     "output_type": "stream",
     "text": [
      "Status Code: 200\n"
     ]
    }
   ],
   "source": [
    "page = requests.get(URL)\n",
    "print(\"Status Code:\",page.status_code)"
   ]
  },
  {
   "cell_type": "code",
   "execution_count": 5,
   "metadata": {},
   "outputs": [],
   "source": [
    "soup = BeautifulSoup(page.content, 'html.parser')"
   ]
  },
  {
   "cell_type": "code",
   "execution_count": 6,
   "metadata": {},
   "outputs": [
    {
     "data": {
      "text/plain": [
       "'The Shawshank Redemption'"
      ]
     },
     "execution_count": 6,
     "metadata": {},
     "output_type": "execute_result"
    }
   ],
   "source": [
    "soup.find(class_=\"lister-item-content\").find('a').text"
   ]
  },
  {
   "cell_type": "code",
   "execution_count": 7,
   "metadata": {},
   "outputs": [
    {
     "data": {
      "text/plain": [
       "'1'"
      ]
     },
     "execution_count": 7,
     "metadata": {},
     "output_type": "execute_result"
    }
   ],
   "source": [
    "soup.find(class_=\"lister-item-content\").find(class_=\"lister-item-index unbold text-primary\").text.strip('.')"
   ]
  },
  {
   "cell_type": "code",
   "execution_count": 8,
   "metadata": {},
   "outputs": [
    {
     "data": {
      "text/plain": [
       "'1994'"
      ]
     },
     "execution_count": 8,
     "metadata": {},
     "output_type": "execute_result"
    }
   ],
   "source": [
    "soup.find(class_=\"lister-item-content\").find(class_=\"lister-item-year text-muted unbold\").text.strip('()')"
   ]
  },
  {
   "cell_type": "code",
   "execution_count": 9,
   "metadata": {},
   "outputs": [
    {
     "data": {
      "text/plain": [
       "'9.3'"
      ]
     },
     "execution_count": 9,
     "metadata": {},
     "output_type": "execute_result"
    }
   ],
   "source": [
    "soup.find(class_=\"lister-item-content\").find(class_=\"col-imdb-rating\").text.strip()"
   ]
  },
  {
   "cell_type": "markdown",
   "metadata": {},
   "source": [
    "## CLASS: Movie"
   ]
  },
  {
   "cell_type": "code",
   "execution_count": 10,
   "metadata": {},
   "outputs": [],
   "source": [
    "class Movie:\n",
    "    def __init__(self, title, year, rank, rating=None):\n",
    "        self.title = title\n",
    "        self.rank = rank\n",
    "        self.year = year\n",
    "        self.rating = rating\n",
    "    \n",
    "    def print_(self):\n",
    "        if(self.rating == None):\n",
    "            func = print( str(self.rank) + \". \" + self.title + \", \" + str(self.year))\n",
    "        else:\n",
    "            func = print( str(self.rank) + \". \" + self.title + \", \" + str(self.year) + \", \" + str(self.rating))\n",
    "        return func"
   ]
  },
  {
   "cell_type": "markdown",
   "metadata": {},
   "source": [
    "## Function to Iterate over Page"
   ]
  },
  {
   "cell_type": "code",
   "execution_count": 11,
   "metadata": {},
   "outputs": [
    {
     "name": "stdout",
     "output_type": "stream",
     "text": [
      "1. The Shawshank Redemption, 1994, 9.3\n",
      "2. The Godfather, 1972, 9.2\n",
      "3. The Dark Knight, 2008, 9\n",
      "4. The Godfather: Part II, 1974, 9\n",
      "5. The Lord of the Rings: The Return of the King, 2003, 8.9\n",
      "6. Pulp Fiction, 1994, 8.9\n",
      "7. Schindler's List, 1993, 8.9\n",
      "8. 12 Angry Men, 1957, 8.9\n",
      "9. Inception, 2010, 8.8\n",
      "10. Fight Club, 1999, 8.8\n",
      "11. The Lord of the Rings: The Fellowship of the Ring, 2001, 8.8\n",
      "12. Forrest Gump, 1994, 8.8\n",
      "13. Il buono, il brutto, il cattivo, 1966, 8.8\n",
      "14. The Lord of the Rings: The Two Towers, 2002, 8.7\n",
      "15. The Matrix, 1999, 8.7\n",
      "16. Goodfellas, 1990, 8.7\n",
      "17. Star Wars: Episode V - The Empire Strikes Back, 1980, 8.7\n",
      "18. One Flew Over the Cuckoo's Nest, 1975, 8.7\n",
      "19. Seppuku, 1962, 8.7\n",
      "20. Gisaengchung, 2019, 8.6\n",
      "21. Interstellar, 2014, 8.6\n",
      "22. Cidade de Deus, 2002, 8.6\n",
      "23. Sen to Chihiro no kamikakushi, 2001, 8.6\n",
      "24. Saving Private Ryan, 1998, 8.6\n",
      "25. The Green Mile, 1999, 8.6\n",
      "26. La vita è bella, 1997, 8.6\n",
      "27. Se7en, 1995, 8.6\n",
      "28. The Silence of the Lambs, 1991, 8.6\n",
      "29. Star Wars, 1977, 8.6\n",
      "30. Shichinin no samurai, 1954, 8.6\n",
      "31. It's a Wonderful Life, 1946, 8.6\n",
      "32. Joker, 2019, 8.5\n",
      "33. Ayla: The Daughter of War, 2017, 8.5\n",
      "34. Avengers: Infinity War, 2018, 8.5\n",
      "35. Whiplash, 2014, 8.5\n",
      "36. The Intouchables, 2011, 8.5\n",
      "37. The Prestige, 2006, 8.5\n",
      "38. The Departed, 2006, 8.5\n",
      "39. The Pianist, 2002, 8.5\n",
      "40. Gladiator, 2000, 8.5\n",
      "41. American History X, 1998, 8.5\n",
      "42. The Usual Suspects, 1995, 8.5\n",
      "43. Léon, 1994, 8.5\n",
      "44. The Lion King, 1994, 8.5\n",
      "45. Terminator 2: Judgment Day, 1991, 8.5\n",
      "46. Nuovo Cinema Paradiso, 1988, 8.5\n",
      "47. Hotaru no haka, 1988, 8.5\n",
      "48. Back to the Future, 1985, 8.5\n",
      "49. Once Upon a Time in the West, 1968, 8.5\n",
      "50. Tengoku to jigoku, 1963, 8.5\n",
      "51. Psycho, 1960, 8.5\n",
      "52. Casablanca, 1942, 8.5\n",
      "53. Modern Times, 1936, 8.5\n",
      "54. City Lights, 1931, 8.5\n",
      "55. 1917, 2019, 8.4\n",
      "56. Capharnaüm, 2018, 8.4\n",
      "57. Kimi no na wa., 2016, 8.4\n",
      "58. Dangal, 2016, 8.4\n",
      "59. Spider-Man: Into the Spider-Verse, 2018, 8.4\n",
      "60. Avengers: Endgame, 2019, 8.4\n",
      "61. Drishyam, 2013, 8.4\n",
      "62. Coco, I) (2017, 8.4\n",
      "63. Django Unchained, 2012, 8.4\n",
      "64. The Dark Knight Rises, 2012, 8.4\n",
      "65. 3 Idiots, 2009, 8.4\n",
      "66. Taare Zameen Par, 2007, 8.4\n",
      "67. WALL·E, 2008, 8.4\n",
      "68. The Lives of Others, 2006, 8.4\n",
      "69. Oldeuboi, 2003, 8.4\n",
      "70. Memento, 2000, 8.4\n",
      "71. Mononoke-hime, 1997, 8.4\n",
      "72. Once Upon a Time in America, 1984, 8.4\n",
      "73. Raiders of the Lost Ark, 1981, 8.4\n",
      "74. The Shining, 1980, 8.4\n",
      "75. Apocalypse Now, 1979, 8.4\n",
      "76. Alien, 1979, 8.4\n",
      "77. Dr. Strangelove or: How I Learned to Stop Worrying and Love the Bomb, 1964, 8.4\n",
      "78. Witness for the Prosecution, 1957, 8.4\n",
      "79. Paths of Glory, 1957, 8.4\n",
      "80. Rear Window, 1954, 8.4\n",
      "81. Sunset Blvd., 1950, 8.4\n",
      "82. The Great Dictator, 1940, 8.4\n",
      "83. Uri: The Surgical Strike, 2019, 8.3\n",
      "84. Andhadhun, 2018, 8.3\n",
      "85. Jagten, 2012, 8.3\n",
      "86. Jodaeiye Nader az Simin, 2011, 8.3\n",
      "87. Incendies, 2010, 8.3\n",
      "88. Babam ve Oglum, 2005, 8.3\n",
      "89. Toy Story 3, 2010, 8.3\n",
      "90. Inglourious Basterds, 2009, 8.3\n",
      "91. Eternal Sunshine of the Spotless Mind, 2004, 8.3\n",
      "92. Amélie, 2001, 8.3\n",
      "93. Snatch, 2000, 8.3\n",
      "94. Requiem for a Dream, 2000, 8.3\n",
      "95. American Beauty, 1999, 8.3\n",
      "96. Good Will Hunting, 1997, 8.3\n",
      "97. Bacheha-Ye aseman, 1997, 8.3\n",
      "98. Eskiya, 1996, 8.3\n",
      "99. Toy Story, 1995, 8.3\n",
      "100. Braveheart, 1995, 8.3\n"
     ]
    }
   ],
   "source": [
    "contents = soup.find_all(class_=\"lister-item-content\")\n",
    "movie_list = []\n",
    "for element in contents:\n",
    "\n",
    "    title = element.find('a').text\n",
    "    #print(title)\n",
    "    year = element.find(class_=\"lister-item-year text-muted unbold\").text.strip('()')\n",
    "    #print(year)\n",
    "    rank = int(element.find(class_=\"lister-item-index unbold text-primary\").text.strip('.'))\n",
    "    #print(rank)\n",
    "    rating = element.find(class_=\"col-imdb-rating\").text.strip()\n",
    "    #print(rating)\n",
    "    \n",
    "    temp = Movie(title, year, rank, rating)\n",
    "    temp.print_()\n",
    "    movie_list.append(temp)"
   ]
  },
  {
   "cell_type": "markdown",
   "metadata": {},
   "source": [
    "## Write to File"
   ]
  },
  {
   "cell_type": "code",
   "execution_count": 12,
   "metadata": {},
   "outputs": [],
   "source": [
    "output_filename = \"film_list.csv\"\n",
    "with open(output_filename, 'w') as file:\n",
    "    file.write(\"Rank, Title, Year, Rank\")\n",
    "    for movie in movie_list:\n",
    "        line = '\\n' + str(movie.rank) + ', ' + movie.title + ', ' + str(movie.year) + ', ' + str(movie.rating)\n",
    "        file.write(line)"
   ]
  }
 ],
 "metadata": {
  "kernelspec": {
   "display_name": "Python 3",
   "language": "python",
   "name": "python3"
  },
  "language_info": {
   "codemirror_mode": {
    "name": "ipython",
    "version": 3
   },
   "file_extension": ".py",
   "mimetype": "text/x-python",
   "name": "python",
   "nbconvert_exporter": "python",
   "pygments_lexer": "ipython3",
   "version": "3.7.1"
  }
 },
 "nbformat": 4,
 "nbformat_minor": 2
}
